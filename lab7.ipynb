{
  "cells": [
    {
      "cell_type": "markdown",
      "metadata": {
        "id": "I1lc3xnYPSlw"
      },
      "source": [
        "First we import libraries and set the random seed:"
      ]
    },
    {
      "cell_type": "code",
      "execution_count": 2,
      "metadata": {
        "id": "pJXe-HNwOvWq"
      },
      "outputs": [
        {
          "data": {
            "text/plain": [
              "<torch._C.Generator at 0x1ef003e88b0>"
            ]
          },
          "execution_count": 2,
          "metadata": {},
          "output_type": "execute_result"
        }
      ],
      "source": [
        "from torchvision.datasets.utils import download_url\n",
        "from torch.utils.data import Dataset, DataLoader, random_split\n",
        "from torch.nn.utils.rnn import pad_sequence\n",
        "from torch import nn\n",
        "from torch.nn import functional as F\n",
        "from torch import optim\n",
        "from tqdm.autonotebook import tqdm\n",
        "from textwrap import wrap\n",
        "import random\n",
        "import sys\n",
        "import io\n",
        "import random\n",
        "import numpy as np\n",
        "import torch\n",
        "import matplotlib.pyplot as plt\n",
        "\n",
        "torch.manual_seed(0)"
      ]
    },
    {
      "cell_type": "markdown",
      "metadata": {
        "id": "zvgBTudyPamX"
      },
      "source": [
        "The following block defines a dataset object which parses our data file and performs numericalisation of the sequence data:"
      ]
    },
    {
      "cell_type": "code",
      "execution_count": 3,
      "metadata": {
        "id": "obU0x4DzO2ce"
      },
      "outputs": [
        {
          "name": "stdout",
          "output_type": "stream",
          "text": [
            "Using downloaded and verified file: .\\dataset.txt\n"
          ]
        }
      ],
      "source": [
        "class CodeDataset(Dataset):\n",
        "    def __init__(self):\n",
        "        download_url('https://github.com/ecs-vlc/COMP6248/raw/master/exercises/lab7/dataset.txt', '.', 'dataset.txt', None)\n",
        "        with io.open('dataset.txt', 'r') as f:\n",
        "            self.data = f.readlines()\n",
        "\n",
        "        self.PAD='_'\n",
        "        self.SOS='^'\n",
        "        self.EOS='$'\n",
        "        self.PAD_IDX=0\n",
        "\n",
        "        # construct the vocabularies to numericalise the data\n",
        "        self.alphabet = \"*\".join(self.PAD+self.SOS+self.EOS+\"abcdefghijklmnopqrstuvwxyz \").split('*')\n",
        "\n",
        "        self.alphabet_indices = dict((c, i) for i, c in enumerate(self.alphabet))\n",
        "        self.indices_alphabet = dict((i, c) for i, c in enumerate(self.alphabet))\n",
        "\n",
        "        self.morsebet = self.PAD+self.SOS+self.EOS+'.- /'\n",
        "        self.morse_indices = dict((c, i) for i, c in enumerate(self.morsebet))\n",
        "        self.indices_morse = dict((i, c) for i, c in enumerate(self.morsebet))\n",
        "\n",
        "    def encode_alpha(self, inp):\n",
        "        x = torch.zeros(len(inp), dtype=torch.long)\n",
        "        for t, char in enumerate(inp):\n",
        "            x[t] = self.alphabet_indices[char]\n",
        "\n",
        "        return x\n",
        "\n",
        "    def decode_alpha(self, ten, skip_tok=False):\n",
        "        s = ''\n",
        "        ten = ten.view(-1)\n",
        "        for v in ten.view(-1):\n",
        "            if not skip_tok:\n",
        "                s += self.indices_alphabet[v.item()]\n",
        "            elif v>2:\n",
        "                s += self.indices_alphabet[v.item()]\n",
        "        return s\n",
        "\n",
        "    def encode_morse(self, inp):\n",
        "        x = torch.zeros(len(inp), dtype=torch.long)\n",
        "        for t, char in enumerate(inp):\n",
        "            x[t] = self.morse_indices[char]\n",
        "\n",
        "        return x\n",
        "\n",
        "    def decode_morse(self, ten):\n",
        "        s = ''\n",
        "        for v in ten:\n",
        "          s += self.indices_morse[v]\n",
        "        return s\n",
        "\n",
        "    def __len__(self):\n",
        "        return len(self.data)\n",
        "\n",
        "    def __getitem__(self, i):\n",
        "        inp, out = self.data[i].strip().split('|')\n",
        "        x = self.encode_morse(inp)\n",
        "        y = self.encode_alpha(out[::-1])\n",
        "        return x, y\n",
        "\n",
        "\n",
        "# This will be used to automatically pad all batch items to the same length\n",
        "def pad_collate(batch): \n",
        "    data = [item[0] for item in batch]\n",
        "    data = pad_sequence(data)\n",
        "    targets = [item[1] for item in batch]\n",
        "    targets = pad_sequence(targets)\n",
        "    return [data, targets]\n",
        "\n",
        "# Load the data and split randomly into training and val subsets\n",
        "ds = CodeDataset()\n",
        "tr, va = random_split(ds, [len(ds) - len(ds)//3, len(ds)//3])\n",
        "trainloader = DataLoader(tr, batch_size=1024, shuffle=True, collate_fn=pad_collate)\n",
        "valloader = DataLoader(va, batch_size=1024, shuffle=False, collate_fn=pad_collate)"
      ]
    },
    {
      "cell_type": "markdown",
      "metadata": {
        "id": "__Fs_h2PPqWa"
      },
      "source": [
        "We next define the model architecture, which is made up of an encoder, a decoder and the Seq2Seq class which ties everything together:"
      ]
    },
    {
      "cell_type": "code",
      "execution_count": 4,
      "metadata": {
        "id": "0JxbT3pFO9Em"
      },
      "outputs": [],
      "source": [
        "class Encoder(nn.Module):\n",
        "    def __init__(self, input_dim, emb_dim, hid_dim):\n",
        "        super().__init__()\n",
        "        \n",
        "        self.hid_dim = hid_dim\n",
        "        self.embedding = nn.Embedding(input_dim, emb_dim)\n",
        "        self.rnn = nn.LSTM(emb_dim, hid_dim)\n",
        "        \n",
        "    def forward(self, src):\n",
        "        # TODO\n",
        "        out = self.embedding(src)\n",
        "        _, hidden = self.rnn(out)\n",
        "        return hidden\n",
        "\n",
        "\n",
        "class Decoder(nn.Module):\n",
        "    def __init__(self, output_dim, emb_dim, hid_dim):\n",
        "        super().__init__()\n",
        "        \n",
        "        self.output_dim = output_dim\n",
        "        self.hid_dim = hid_dim\n",
        "        self.embedding = nn.Embedding(output_dim, emb_dim)\n",
        "        self.rnn = nn.LSTM(emb_dim, hid_dim)\n",
        "        self.fc_out = nn.Linear(hid_dim, output_dim)\n",
        "        \n",
        "    def forward(self, input, hidden, cell):\n",
        "        input = input.unsqueeze(0)\n",
        "        embedded = self.embedding(input)\n",
        "        output, (hidden, cell) = self.rnn(embedded, (hidden, cell))        \n",
        "        prediction = self.fc_out(output.squeeze(0))\n",
        "        return prediction, hidden, cell\n",
        "\n",
        "\n",
        "class Seq2Seq(nn.Module):\n",
        "    def __init__(self, encoder, decoder):\n",
        "        super().__init__()\n",
        "        \n",
        "        self.encoder = encoder\n",
        "        self.decoder = decoder\n",
        "        \n",
        "    def forward(self, src, trg=None, teacher_forcing_ratio = 0.5, maxlen=5, padding_idx=0):\n",
        "        batch_size = src.shape[1]\n",
        "        trg_len = trg.shape[0] if trg is not None else maxlen\n",
        "        trg_vocab_size = self.decoder.output_dim\n",
        "\n",
        "        outputs = torch.zeros(trg_len, batch_size, trg_vocab_size).to(src.device)\n",
        "        hidden, cell = self.encoder(src)\n",
        "\n",
        "        input = torch.ones(batch_size, dtype=torch.long, device=src.device) * padding_idx\n",
        "        for t in range(1, trg_len):\n",
        "            output, hidden, cell = self.decoder(input, hidden, cell)\n",
        "            outputs[t] = output\n",
        "            \n",
        "            teacher_force = random.random() < teacher_forcing_ratio\n",
        "            top1 = output.argmax(1) \n",
        "            input = trg[t] if teacher_force and trg is not None else top1\n",
        "        \n",
        "        return outputs\n",
        "\n",
        "\n",
        "INPUT_DIM = len(ds.morsebet)\n",
        "OUTPUT_DIM = len(ds.alphabet)\n",
        "ENC_EMB_DIM = 128\n",
        "DEC_EMB_DIM = 128\n",
        "HID_DIM = 256\n",
        "\n",
        "enc = Encoder(INPUT_DIM, ENC_EMB_DIM, HID_DIM)\n",
        "dec = Decoder(OUTPUT_DIM, DEC_EMB_DIM, HID_DIM)\n",
        "model = Seq2Seq(enc, dec).cuda()"
      ]
    },
    {
      "cell_type": "markdown",
      "metadata": {
        "id": "iY4Y5DPVP7Ih"
      },
      "source": [
        "Finally, we can train and evaluate the model:"
      ]
    },
    {
      "cell_type": "code",
      "execution_count": 5,
      "metadata": {
        "id": "qAkkOs_tPC68"
      },
      "outputs": [
        {
          "data": {
            "application/vnd.jupyter.widget-view+json": {
              "model_id": "a94f2ad092924548884b622a0875c305",
              "version_major": 2,
              "version_minor": 0
            },
            "text/plain": [
              "train:   0%|          | 0/163 [00:00<?, ?it/s]"
            ]
          },
          "metadata": {},
          "output_type": "display_data"
        },
        {
          "data": {
            "application/vnd.jupyter.widget-view+json": {
              "model_id": "a9f6a4bd406044c3ada515299cf734c5",
              "version_major": 2,
              "version_minor": 0
            },
            "text/plain": [
              "val:   0%|          | 0/82 [00:00<?, ?it/s]"
            ]
          },
          "metadata": {},
          "output_type": "display_data"
        },
        {
          "data": {
            "application/vnd.jupyter.widget-view+json": {
              "model_id": "4dde1e620cd24341844ffd4532338d41",
              "version_major": 2,
              "version_minor": 0
            },
            "text/plain": [
              "train:   0%|          | 0/163 [00:00<?, ?it/s]"
            ]
          },
          "metadata": {},
          "output_type": "display_data"
        },
        {
          "data": {
            "application/vnd.jupyter.widget-view+json": {
              "model_id": "a8e9ce5d7f454edc838516ef3f42057e",
              "version_major": 2,
              "version_minor": 0
            },
            "text/plain": [
              "val:   0%|          | 0/82 [00:00<?, ?it/s]"
            ]
          },
          "metadata": {},
          "output_type": "display_data"
        },
        {
          "data": {
            "application/vnd.jupyter.widget-view+json": {
              "model_id": "93042c2dbbad43558ac94673d3b00d57",
              "version_major": 2,
              "version_minor": 0
            },
            "text/plain": [
              "train:   0%|          | 0/163 [00:00<?, ?it/s]"
            ]
          },
          "metadata": {},
          "output_type": "display_data"
        },
        {
          "data": {
            "application/vnd.jupyter.widget-view+json": {
              "model_id": "1cdec67f27754952ae3a557d9a3a847b",
              "version_major": 2,
              "version_minor": 0
            },
            "text/plain": [
              "val:   0%|          | 0/82 [00:00<?, ?it/s]"
            ]
          },
          "metadata": {},
          "output_type": "display_data"
        },
        {
          "data": {
            "application/vnd.jupyter.widget-view+json": {
              "model_id": "c7258e2b7385405bac5c2220100be00c",
              "version_major": 2,
              "version_minor": 0
            },
            "text/plain": [
              "train:   0%|          | 0/163 [00:00<?, ?it/s]"
            ]
          },
          "metadata": {},
          "output_type": "display_data"
        },
        {
          "data": {
            "application/vnd.jupyter.widget-view+json": {
              "model_id": "c26a84405ec74e02a4c29790a8c75850",
              "version_major": 2,
              "version_minor": 0
            },
            "text/plain": [
              "val:   0%|          | 0/82 [00:00<?, ?it/s]"
            ]
          },
          "metadata": {},
          "output_type": "display_data"
        },
        {
          "data": {
            "application/vnd.jupyter.widget-view+json": {
              "model_id": "2c8d22dfc87945ada6b20fc04b7802d6",
              "version_major": 2,
              "version_minor": 0
            },
            "text/plain": [
              "train:   0%|          | 0/163 [00:00<?, ?it/s]"
            ]
          },
          "metadata": {},
          "output_type": "display_data"
        },
        {
          "data": {
            "application/vnd.jupyter.widget-view+json": {
              "model_id": "3f887aa6daa04b349e4ee834e4fc9133",
              "version_major": 2,
              "version_minor": 0
            },
            "text/plain": [
              "val:   0%|          | 0/82 [00:00<?, ?it/s]"
            ]
          },
          "metadata": {},
          "output_type": "display_data"
        },
        {
          "data": {
            "application/vnd.jupyter.widget-view+json": {
              "model_id": "7792ddf34ca64c68a0f5e66a5fac29cb",
              "version_major": 2,
              "version_minor": 0
            },
            "text/plain": [
              "train:   0%|          | 0/163 [00:00<?, ?it/s]"
            ]
          },
          "metadata": {},
          "output_type": "display_data"
        },
        {
          "data": {
            "application/vnd.jupyter.widget-view+json": {
              "model_id": "143254afeb2b4456a463e0f89c71359e",
              "version_major": 2,
              "version_minor": 0
            },
            "text/plain": [
              "val:   0%|          | 0/82 [00:00<?, ?it/s]"
            ]
          },
          "metadata": {},
          "output_type": "display_data"
        },
        {
          "data": {
            "application/vnd.jupyter.widget-view+json": {
              "model_id": "ab8231c4830e4b09a3e2723affed8890",
              "version_major": 2,
              "version_minor": 0
            },
            "text/plain": [
              "train:   0%|          | 0/163 [00:00<?, ?it/s]"
            ]
          },
          "metadata": {},
          "output_type": "display_data"
        },
        {
          "data": {
            "application/vnd.jupyter.widget-view+json": {
              "model_id": "80333c8620154d7a9ff7cc667b8c63fd",
              "version_major": 2,
              "version_minor": 0
            },
            "text/plain": [
              "val:   0%|          | 0/82 [00:00<?, ?it/s]"
            ]
          },
          "metadata": {},
          "output_type": "display_data"
        },
        {
          "data": {
            "application/vnd.jupyter.widget-view+json": {
              "model_id": "ea76a1eb5aa34a08a556c2b09b74568e",
              "version_major": 2,
              "version_minor": 0
            },
            "text/plain": [
              "train:   0%|          | 0/163 [00:00<?, ?it/s]"
            ]
          },
          "metadata": {},
          "output_type": "display_data"
        },
        {
          "data": {
            "application/vnd.jupyter.widget-view+json": {
              "model_id": "e70a978b330043df8b0f0fd8585726aa",
              "version_major": 2,
              "version_minor": 0
            },
            "text/plain": [
              "val:   0%|          | 0/82 [00:00<?, ?it/s]"
            ]
          },
          "metadata": {},
          "output_type": "display_data"
        },
        {
          "data": {
            "application/vnd.jupyter.widget-view+json": {
              "model_id": "31c2a4b6aaff4146924076d6f3f8180e",
              "version_major": 2,
              "version_minor": 0
            },
            "text/plain": [
              "train:   0%|          | 0/163 [00:00<?, ?it/s]"
            ]
          },
          "metadata": {},
          "output_type": "display_data"
        },
        {
          "data": {
            "application/vnd.jupyter.widget-view+json": {
              "model_id": "cfee829897a247d197ded6cd2172a5f6",
              "version_major": 2,
              "version_minor": 0
            },
            "text/plain": [
              "val:   0%|          | 0/82 [00:00<?, ?it/s]"
            ]
          },
          "metadata": {},
          "output_type": "display_data"
        },
        {
          "data": {
            "application/vnd.jupyter.widget-view+json": {
              "model_id": "3d3d2d3ce2e844948e77442e2434aebb",
              "version_major": 2,
              "version_minor": 0
            },
            "text/plain": [
              "train:   0%|          | 0/163 [00:00<?, ?it/s]"
            ]
          },
          "metadata": {},
          "output_type": "display_data"
        },
        {
          "data": {
            "application/vnd.jupyter.widget-view+json": {
              "model_id": "fbfd249a85014ea69940576f83242c39",
              "version_major": 2,
              "version_minor": 0
            },
            "text/plain": [
              "val:   0%|          | 0/82 [00:00<?, ?it/s]"
            ]
          },
          "metadata": {},
          "output_type": "display_data"
        },
        {
          "name": "stderr",
          "output_type": "stream",
          "text": [
            "The PostScript backend does not support transparency; partially transparent artists will be rendered opaque.\n"
          ]
        },
        {
          "data": {
            "image/png": "[encoded data removed]",
            "text/plain": [
              "<Figure size 432x288 with 1 Axes>"
            ]
          },
          "metadata": {
            "needs_background": "light"
          },
          "output_type": "display_data"
        }
      ],
      "source": [
        "crit = nn.CrossEntropyLoss(ignore_index=ds.PAD_IDX)\n",
        "opt = optim.Adam(model.parameters())\n",
        "train_losses = []\n",
        "val_losses = []\n",
        "\n",
        "for e in range(10):\n",
        "    model.train()\n",
        "\n",
        "    with tqdm(total=len(trainloader), desc='train') as t:\n",
        "        epoch_loss = 0\n",
        "        for i, (x, y) in enumerate(trainloader):\n",
        "            x = x.cuda()\n",
        "            y = y.cuda()\n",
        "\n",
        "            opt.zero_grad()\n",
        "            pred = model(x, y, padding_idx=ds.PAD_IDX)\n",
        "\n",
        "            pred_dim = pred.shape[-1]\n",
        "            pred = pred[1:].view(-1, pred_dim)\n",
        "            y = y[1:].view(-1)\n",
        "\n",
        "            loss = crit(pred, y)\n",
        "            loss.backward()\n",
        "            opt.step()\n",
        "\n",
        "            epoch_loss = (epoch_loss*i + loss.item()) / (i+1)\n",
        "\n",
        "            t.set_postfix(loss='{:05.3f}'.format(epoch_loss))\n",
        "            t.update()\n",
        "        train_losses.append(epoch_loss)\n",
        "\n",
        "    model.eval()\n",
        "    with tqdm(total=len(valloader), desc='val') as t:\n",
        "        with torch.no_grad():\n",
        "            epoch_loss = 0\n",
        "            for i, (x, y) in enumerate(valloader):\n",
        "                x = x.cuda()\n",
        "                y = y.cuda()\n",
        "\n",
        "                pred = model(x, y, teacher_forcing_ratio=0, padding_idx=ds.PAD_IDX)\n",
        "\n",
        "                pred_dim = pred.shape[-1]\n",
        "                pred = pred[1:].view(-1, pred_dim)\n",
        "                y = y[1:].view(-1)\n",
        "\n",
        "                loss = crit(pred, y)\n",
        "                epoch_loss = (epoch_loss*i + loss.item()) / (i+1)\n",
        "\n",
        "                t.set_postfix(loss='{:05.3f}'.format(epoch_loss))\n",
        "                t.update()\n",
        "            val_losses.append(epoch_loss)\n",
        "plt.plot(range(1, 11), train_losses, label='training loss')\n",
        "plt.plot(range(1, 11), val_losses, label='validation loss')\n",
        "plt.legend()\n",
        "plt.savefig('loss.eps')\n",
        "plt.show()"
      ]
    },
    {
      "cell_type": "code",
      "execution_count": 17,
      "metadata": {
        "id": "8EjXSAOUPFfE"
      },
      "outputs": [
        {
          "name": "stdout",
          "output_type": "stream",
          "text": [
            "answer the following\n",
            "why is the order of the output reversed\n",
            "what is the point of teacher forcing\n"
          ]
        }
      ],
      "source": [
        "def decode(code):\n",
        "  out = ''\n",
        "  for chunk in code.split(' '):\n",
        "    num = ds.encode_morse('^ ' + chunk + ' $').unsqueeze(1)\n",
        "    pred = model(num.cuda(), maxlen=2)\n",
        "    pred = pred[1:].view(-1, pred_dim).argmax(-1)\n",
        "    out += ds.decode_alpha(pred.cpu())[::-1]\n",
        "  return out\n",
        "print(decode('.- -. ... .-- . .-. / - .... . / ..-. --- .-.. .-.. --- .-- .. -. --.'))\n",
        "print(decode('.-- .... -.-- / .. ... / - .... . / --- .-. -.. . .-. / --- ..-. / - .... . / --- ..- - .--. ..- - / .-. . ...- . .-. ... . -..'))\n",
        "print(decode('.-- .... .- - / .. ... / - .... . / .--. --- .. -. - / --- ..-. / - . .- -.-. .... . .-. / ..-. --- .-. -.-. .. -. --.'))"
      ]
    },
    {
      "cell_type": "code",
      "execution_count": null,
      "metadata": {},
      "outputs": [],
      "source": []
    }
  ],
  "metadata": {
    "accelerator": "GPU",
    "colab": {
      "collapsed_sections": [],
      "name": "labex7-seq2seq.ipynb",
      "provenance": []
    },
    "kernelspec": {
      "display_name": "Python 3",
      "name": "python3"
    },
    "language_info": {
      "codemirror_mode": {
        "name": "ipython",
        "version": 3
      },
      "file_extension": ".py",
      "mimetype": "text/x-python",
      "name": "python",
      "nbconvert_exporter": "python",
      "pygments_lexer": "ipython3",
      "version": "3.9.12"
    }
  },
  "nbformat": 4,
  "nbformat_minor": 0
}
